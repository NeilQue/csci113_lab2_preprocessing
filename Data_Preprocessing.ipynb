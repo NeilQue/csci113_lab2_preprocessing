{
 "cells": [
  {
   "cell_type": "markdown",
   "id": "51e07550",
   "metadata": {},
   "source": [
    "### Possible Issues\n",
    "\n",
    "`calories_day` can be named better\n",
    "\n",
    "`comfort_food` is not yet coded\n",
    "\n",
    "`father_profession`, `mother_profession` not coded\n",
    "\n",
    "`food_childhood` not coded \n",
    "\n",
    "`healthy_feel`, `life_rewarding` interesting scale: 1 for strongest, 10 for weakest \n",
    "\n",
    "`healthy_meal` not coded \n",
    "\n",
    "`meals_dinner_friend` not coded \n",
    "\n",
    "`type_sports` not coded "
   ]
  },
  {
   "cell_type": "code",
   "execution_count": 1,
   "id": "0d3b1a5a",
   "metadata": {},
   "outputs": [],
   "source": [
    "import pandas as pd\n",
    "import numpy as np"
   ]
  },
  {
   "cell_type": "code",
   "execution_count": 2,
   "id": "931c2a98",
   "metadata": {},
   "outputs": [],
   "source": [
    "df = pd.read_csv('food_coded.csv')"
   ]
  },
  {
   "cell_type": "code",
   "execution_count": 3,
   "id": "fe4ce156",
   "metadata": {},
   "outputs": [
    {
     "name": "stdout",
     "output_type": "stream",
     "text": [
      "<class 'pandas.core.frame.DataFrame'>\n",
      "RangeIndex: 125 entries, 0 to 124\n",
      "Data columns (total 61 columns):\n",
      " #   Column                        Non-Null Count  Dtype  \n",
      "---  ------                        --------------  -----  \n",
      " 0   GPA                           123 non-null    object \n",
      " 1   Gender                        125 non-null    int64  \n",
      " 2   breakfast                     125 non-null    int64  \n",
      " 3   calories_chicken              125 non-null    int64  \n",
      " 4   calories_day                  106 non-null    float64\n",
      " 5   calories_scone                124 non-null    float64\n",
      " 6   coffee                        125 non-null    int64  \n",
      " 7   comfort_food                  124 non-null    object \n",
      " 8   comfort_food_reasons          124 non-null    object \n",
      " 9   comfort_food_reasons_coded    106 non-null    float64\n",
      " 10  cook                          122 non-null    float64\n",
      " 11  comfort_food_reasons_coded.1  125 non-null    int64  \n",
      " 12  cuisine                       108 non-null    float64\n",
      " 13  diet_current                  124 non-null    object \n",
      " 14  diet_current_coded            125 non-null    int64  \n",
      " 15  drink                         123 non-null    float64\n",
      " 16  eating_changes                122 non-null    object \n",
      " 17  eating_changes_coded          125 non-null    int64  \n",
      " 18  eating_changes_coded1         125 non-null    int64  \n",
      " 19  eating_out                    125 non-null    int64  \n",
      " 20  employment                    116 non-null    float64\n",
      " 21  ethnic_food                   125 non-null    int64  \n",
      " 22  exercise                      112 non-null    float64\n",
      " 23  father_education              124 non-null    float64\n",
      " 24  father_profession             122 non-null    object \n",
      " 25  fav_cuisine                   123 non-null    object \n",
      " 26  fav_cuisine_coded             125 non-null    int64  \n",
      " 27  fav_food                      123 non-null    float64\n",
      " 28  food_childhood                124 non-null    object \n",
      " 29  fries                         125 non-null    int64  \n",
      " 30  fruit_day                     125 non-null    int64  \n",
      " 31  grade_level                   125 non-null    int64  \n",
      " 32  greek_food                    125 non-null    int64  \n",
      " 33  healthy_feeling               125 non-null    int64  \n",
      " 34  healthy_meal                  124 non-null    object \n",
      " 35  ideal_diet                    124 non-null    object \n",
      " 36  ideal_diet_coded              125 non-null    int64  \n",
      " 37  income                        124 non-null    float64\n",
      " 38  indian_food                   125 non-null    int64  \n",
      " 39  italian_food                  125 non-null    int64  \n",
      " 40  life_rewarding                124 non-null    float64\n",
      " 41  marital_status                124 non-null    float64\n",
      " 42  meals_dinner_friend           122 non-null    object \n",
      " 43  mother_education              122 non-null    float64\n",
      " 44  mother_profession             123 non-null    object \n",
      " 45  nutritional_check             125 non-null    int64  \n",
      " 46  on_off_campus                 124 non-null    float64\n",
      " 47  parents_cook                  125 non-null    int64  \n",
      " 48  pay_meal_out                  125 non-null    int64  \n",
      " 49  persian_food                  124 non-null    float64\n",
      " 50  self_perception_weight        124 non-null    float64\n",
      " 51  soup                          124 non-null    float64\n",
      " 52  sports                        123 non-null    float64\n",
      " 53  thai_food                     125 non-null    int64  \n",
      " 54  tortilla_calories             124 non-null    float64\n",
      " 55  turkey_calories               125 non-null    int64  \n",
      " 56  type_sports                   104 non-null    object \n",
      " 57  veggies_day                   125 non-null    int64  \n",
      " 58  vitamins                      125 non-null    int64  \n",
      " 59  waffle_calories               125 non-null    int64  \n",
      " 60  weight                        123 non-null    object \n",
      "dtypes: float64(20), int64(27), object(14)\n",
      "memory usage: 59.7+ KB\n"
     ]
    }
   ],
   "source": [
    "df.info()"
   ]
  },
  {
   "cell_type": "code",
   "execution_count": 4,
   "id": "8bed6e45",
   "metadata": {},
   "outputs": [
    {
     "data": {
      "text/html": [
       "<div>\n",
       "<style scoped>\n",
       "    .dataframe tbody tr th:only-of-type {\n",
       "        vertical-align: middle;\n",
       "    }\n",
       "\n",
       "    .dataframe tbody tr th {\n",
       "        vertical-align: top;\n",
       "    }\n",
       "\n",
       "    .dataframe thead th {\n",
       "        text-align: right;\n",
       "    }\n",
       "</style>\n",
       "<table border=\"1\" class=\"dataframe\">\n",
       "  <thead>\n",
       "    <tr style=\"text-align: right;\">\n",
       "      <th></th>\n",
       "      <th>GPA</th>\n",
       "      <th>Gender</th>\n",
       "      <th>breakfast</th>\n",
       "      <th>calories_chicken</th>\n",
       "      <th>calories_day</th>\n",
       "      <th>calories_scone</th>\n",
       "      <th>coffee</th>\n",
       "      <th>comfort_food</th>\n",
       "      <th>comfort_food_reasons</th>\n",
       "      <th>comfort_food_reasons_coded</th>\n",
       "      <th>...</th>\n",
       "      <th>soup</th>\n",
       "      <th>sports</th>\n",
       "      <th>thai_food</th>\n",
       "      <th>tortilla_calories</th>\n",
       "      <th>turkey_calories</th>\n",
       "      <th>type_sports</th>\n",
       "      <th>veggies_day</th>\n",
       "      <th>vitamins</th>\n",
       "      <th>waffle_calories</th>\n",
       "      <th>weight</th>\n",
       "    </tr>\n",
       "  </thead>\n",
       "  <tbody>\n",
       "    <tr>\n",
       "      <th>0</th>\n",
       "      <td>2.4</td>\n",
       "      <td>2</td>\n",
       "      <td>1</td>\n",
       "      <td>430</td>\n",
       "      <td>NaN</td>\n",
       "      <td>315.0</td>\n",
       "      <td>1</td>\n",
       "      <td>none</td>\n",
       "      <td>we dont have comfort</td>\n",
       "      <td>9.0</td>\n",
       "      <td>...</td>\n",
       "      <td>1.0</td>\n",
       "      <td>1.0</td>\n",
       "      <td>1</td>\n",
       "      <td>1165.0</td>\n",
       "      <td>345</td>\n",
       "      <td>car racing</td>\n",
       "      <td>5</td>\n",
       "      <td>1</td>\n",
       "      <td>1315</td>\n",
       "      <td>187</td>\n",
       "    </tr>\n",
       "    <tr>\n",
       "      <th>1</th>\n",
       "      <td>3.654</td>\n",
       "      <td>1</td>\n",
       "      <td>1</td>\n",
       "      <td>610</td>\n",
       "      <td>3.0</td>\n",
       "      <td>420.0</td>\n",
       "      <td>2</td>\n",
       "      <td>chocolate, chips, ice cream</td>\n",
       "      <td>Stress, bored, anger</td>\n",
       "      <td>1.0</td>\n",
       "      <td>...</td>\n",
       "      <td>1.0</td>\n",
       "      <td>1.0</td>\n",
       "      <td>2</td>\n",
       "      <td>725.0</td>\n",
       "      <td>690</td>\n",
       "      <td>Basketball</td>\n",
       "      <td>4</td>\n",
       "      <td>2</td>\n",
       "      <td>900</td>\n",
       "      <td>155</td>\n",
       "    </tr>\n",
       "    <tr>\n",
       "      <th>2</th>\n",
       "      <td>3.3</td>\n",
       "      <td>1</td>\n",
       "      <td>1</td>\n",
       "      <td>720</td>\n",
       "      <td>4.0</td>\n",
       "      <td>420.0</td>\n",
       "      <td>2</td>\n",
       "      <td>frozen yogurt, pizza, fast food</td>\n",
       "      <td>stress, sadness</td>\n",
       "      <td>1.0</td>\n",
       "      <td>...</td>\n",
       "      <td>1.0</td>\n",
       "      <td>2.0</td>\n",
       "      <td>5</td>\n",
       "      <td>1165.0</td>\n",
       "      <td>500</td>\n",
       "      <td>none</td>\n",
       "      <td>5</td>\n",
       "      <td>1</td>\n",
       "      <td>900</td>\n",
       "      <td>I'm not answering this.</td>\n",
       "    </tr>\n",
       "    <tr>\n",
       "      <th>3</th>\n",
       "      <td>3.2</td>\n",
       "      <td>1</td>\n",
       "      <td>1</td>\n",
       "      <td>430</td>\n",
       "      <td>3.0</td>\n",
       "      <td>420.0</td>\n",
       "      <td>2</td>\n",
       "      <td>Pizza, Mac and cheese, ice cream</td>\n",
       "      <td>Boredom</td>\n",
       "      <td>2.0</td>\n",
       "      <td>...</td>\n",
       "      <td>1.0</td>\n",
       "      <td>2.0</td>\n",
       "      <td>5</td>\n",
       "      <td>725.0</td>\n",
       "      <td>690</td>\n",
       "      <td>NaN</td>\n",
       "      <td>3</td>\n",
       "      <td>1</td>\n",
       "      <td>1315</td>\n",
       "      <td>Not sure, 240</td>\n",
       "    </tr>\n",
       "    <tr>\n",
       "      <th>4</th>\n",
       "      <td>3.5</td>\n",
       "      <td>1</td>\n",
       "      <td>1</td>\n",
       "      <td>720</td>\n",
       "      <td>2.0</td>\n",
       "      <td>420.0</td>\n",
       "      <td>2</td>\n",
       "      <td>Ice cream, chocolate, chips</td>\n",
       "      <td>Stress, boredom, cravings</td>\n",
       "      <td>1.0</td>\n",
       "      <td>...</td>\n",
       "      <td>1.0</td>\n",
       "      <td>1.0</td>\n",
       "      <td>4</td>\n",
       "      <td>940.0</td>\n",
       "      <td>500</td>\n",
       "      <td>Softball</td>\n",
       "      <td>4</td>\n",
       "      <td>2</td>\n",
       "      <td>760</td>\n",
       "      <td>190</td>\n",
       "    </tr>\n",
       "  </tbody>\n",
       "</table>\n",
       "<p>5 rows × 61 columns</p>\n",
       "</div>"
      ],
      "text/plain": [
       "     GPA  Gender  breakfast  calories_chicken  calories_day  calories_scone  \\\n",
       "0    2.4       2          1               430           NaN           315.0   \n",
       "1  3.654       1          1               610           3.0           420.0   \n",
       "2    3.3       1          1               720           4.0           420.0   \n",
       "3    3.2       1          1               430           3.0           420.0   \n",
       "4    3.5       1          1               720           2.0           420.0   \n",
       "\n",
       "   coffee                      comfort_food        comfort_food_reasons  \\\n",
       "0       1                              none       we dont have comfort    \n",
       "1       2       chocolate, chips, ice cream        Stress, bored, anger   \n",
       "2       2   frozen yogurt, pizza, fast food             stress, sadness   \n",
       "3       2  Pizza, Mac and cheese, ice cream                     Boredom   \n",
       "4       2      Ice cream, chocolate, chips   Stress, boredom, cravings    \n",
       "\n",
       "   comfort_food_reasons_coded  ...  soup  sports  thai_food tortilla_calories  \\\n",
       "0                         9.0  ...   1.0     1.0          1            1165.0   \n",
       "1                         1.0  ...   1.0     1.0          2             725.0   \n",
       "2                         1.0  ...   1.0     2.0          5            1165.0   \n",
       "3                         2.0  ...   1.0     2.0          5             725.0   \n",
       "4                         1.0  ...   1.0     1.0          4             940.0   \n",
       "\n",
       "   turkey_calories  type_sports veggies_day  vitamins  waffle_calories  \\\n",
       "0              345   car racing           5         1             1315   \n",
       "1              690  Basketball            4         2              900   \n",
       "2              500         none           5         1              900   \n",
       "3              690          NaN           3         1             1315   \n",
       "4              500     Softball           4         2              760   \n",
       "\n",
       "                     weight  \n",
       "0                       187  \n",
       "1                       155  \n",
       "2  I'm not answering this.   \n",
       "3             Not sure, 240  \n",
       "4                       190  \n",
       "\n",
       "[5 rows x 61 columns]"
      ]
     },
     "execution_count": 4,
     "metadata": {},
     "output_type": "execute_result"
    }
   ],
   "source": [
    "df.head()"
   ]
  },
  {
   "cell_type": "markdown",
   "id": "022fd12d",
   "metadata": {},
   "source": [
    "### Removing redundancies"
   ]
  },
  {
   "cell_type": "markdown",
   "id": "264aa8ef",
   "metadata": {},
   "source": [
    "Because these columns have already been coded, we only keep the codes and remove the uncoded columns."
   ]
  },
  {
   "cell_type": "code",
   "execution_count": 5,
   "id": "066b3591",
   "metadata": {},
   "outputs": [],
   "source": [
    "df.drop(['comfort_food_reasons', 'diet_current', 'eating_changes', 'fav_cuisine', 'ideal_diet'], inplace=True, axis=1)"
   ]
  },
  {
   "cell_type": "markdown",
   "id": "a62a8e52",
   "metadata": {},
   "source": [
    "`comfort_food_reasons_coded` and `comfort_food_reasons_coded.1` are almost the same column, except that the former has `nan` values. Hence, we choose the latter to keep."
   ]
  },
  {
   "cell_type": "code",
   "execution_count": 6,
   "id": "de03fc8b",
   "metadata": {},
   "outputs": [],
   "source": [
    "df.drop(['comfort_food_reasons_coded'], inplace=True, axis=1)\n",
    "df.rename({'comfort_food_reasons_coded.1': 'comfort_food_reasons_coded'}, axis=1, inplace=True)"
   ]
  },
  {
   "cell_type": "markdown",
   "id": "02d0746f",
   "metadata": {},
   "source": [
    "There are two codings for `eating_changes`: `eating_changes_coded` and `eating_changes_coded1`. The latter is more detailed than the forever, so we decide to keep it."
   ]
  },
  {
   "cell_type": "code",
   "execution_count": 7,
   "id": "79d666c2",
   "metadata": {},
   "outputs": [],
   "source": [
    "df.drop(['eating_changes_coded'], inplace=True, axis=1)\n",
    "df.rename({'eating_changes_coded1': 'eating_changes_coded'}, axis=1, inplace=True)"
   ]
  },
  {
   "cell_type": "markdown",
   "id": "6f9e31ee",
   "metadata": {},
   "source": [
    "### Missing Values"
   ]
  },
  {
   "cell_type": "markdown",
   "id": "84eb1cd5",
   "metadata": {},
   "source": [
    "`GPA` is an `object` column in this dataset. Hence, further data exploration must be made on the column so that its data type can be changed to the more appropriate `float`."
   ]
  },
  {
   "cell_type": "code",
   "execution_count": 8,
   "id": "7f5f205b",
   "metadata": {},
   "outputs": [
    {
     "data": {
      "text/plain": [
       "3.5           13\n",
       "3             11\n",
       "3.2           10\n",
       "3.7           10\n",
       "3.3            9\n",
       "3.4            9\n",
       "3.6            7\n",
       "3.9            7\n",
       "3.8            6\n",
       "2.8            5\n",
       "4              4\n",
       "3.1            3\n",
       "2.9            2\n",
       "3.83           2\n",
       "2.6            2\n",
       "2.4            1\n",
       "3.79 bitch     1\n",
       "3.73           1\n",
       "2.71           1\n",
       "3.92           1\n",
       "3.68           1\n",
       "3.75           1\n",
       "Unknown        1\n",
       "3.77           1\n",
       "3.63           1\n",
       "3.67           1\n",
       "3.89           1\n",
       "Personal       1\n",
       "3.35           1\n",
       "3.292          1\n",
       "3.605          1\n",
       "3.654          1\n",
       "3.65           1\n",
       "3.87           1\n",
       "2.2            1\n",
       "3.904          1\n",
       "2.25           1\n",
       "3.882          1\n",
       "Name: GPA, dtype: int64"
      ]
     },
     "execution_count": 8,
     "metadata": {},
     "output_type": "execute_result"
    }
   ],
   "source": [
    "df['GPA'].value_counts()"
   ]
  },
  {
   "cell_type": "markdown",
   "id": "e9d634a2",
   "metadata": {},
   "source": [
    "We should extract the number from `3.79 bitch`, and turn `Unknown` and `Personal` into `NaN` values to be imputed later."
   ]
  },
  {
   "cell_type": "markdown",
   "id": "a8ca3c56",
   "metadata": {},
   "source": [
    "Here, we note that `Personal ` has a space after the word. This is important in accessing it."
   ]
  },
  {
   "cell_type": "code",
   "execution_count": 9,
   "id": "86f6bf14",
   "metadata": {},
   "outputs": [],
   "source": [
    "df['GPA'].replace({\n",
    "    '3.79 bitch': 3.79,\n",
    "    'Unknown': np.NaN,\n",
    "    'Personal ': np.NaN\n",
    "}, inplace=True)"
   ]
  },
  {
   "cell_type": "code",
   "execution_count": 10,
   "id": "4a4aecf7",
   "metadata": {},
   "outputs": [
    {
     "data": {
      "text/plain": [
       "3.5      13\n",
       "3        11\n",
       "3.7      10\n",
       "3.2      10\n",
       "3.3       9\n",
       "3.4       9\n",
       "3.6       7\n",
       "3.9       7\n",
       "3.8       6\n",
       "2.8       5\n",
       "4         4\n",
       "3.1       3\n",
       "2.9       2\n",
       "2.6       2\n",
       "3.83      2\n",
       "3.79      1\n",
       "2.71      1\n",
       "3.73      1\n",
       "2.4       1\n",
       "3.92      1\n",
       "3.68      1\n",
       "3.75      1\n",
       "3.77      1\n",
       "3.63      1\n",
       "3.67      1\n",
       "3.65      1\n",
       "3.35      1\n",
       "3.292     1\n",
       "3.605     1\n",
       "3.89      1\n",
       "3.654     1\n",
       "3.87      1\n",
       "2.2       1\n",
       "3.904     1\n",
       "2.25      1\n",
       "3.882     1\n",
       "Name: GPA, dtype: int64"
      ]
     },
     "execution_count": 10,
     "metadata": {},
     "output_type": "execute_result"
    }
   ],
   "source": [
    "df['GPA'].value_counts()"
   ]
  },
  {
   "cell_type": "code",
   "execution_count": 11,
   "id": "a1aade4c",
   "metadata": {},
   "outputs": [],
   "source": [
    "df['GPA'] = pd.to_numeric(df['GPA'])"
   ]
  },
  {
   "cell_type": "markdown",
   "id": "657aed01",
   "metadata": {},
   "source": [
    "The `weight` column is also an `object` column, instead of `int` or `float`. Hence, we have to do more data exploration."
   ]
  },
  {
   "cell_type": "code",
   "execution_count": 12,
   "id": "4383bbae",
   "metadata": {},
   "outputs": [
    {
     "data": {
      "text/plain": [
       "135                         8\n",
       "140                         8\n",
       "150                         7\n",
       "170                         7\n",
       "175                         6\n",
       "180                         6\n",
       "155                         6\n",
       "185                         6\n",
       "165                         5\n",
       "190                         5\n",
       "125                         5\n",
       "145                         4\n",
       "200                         4\n",
       "130                         4\n",
       "120                         3\n",
       "160                         3\n",
       "129                         2\n",
       "113                         2\n",
       "128                         2\n",
       "167                         2\n",
       "210                         2\n",
       "118                         1\n",
       "192                         1\n",
       "187                         1\n",
       "112                         1\n",
       "144 lbs                     1\n",
       "127                         1\n",
       "260                         1\n",
       "184                         1\n",
       "230                         1\n",
       "138                         1\n",
       "265                         1\n",
       "205                         1\n",
       "169                         1\n",
       "168                         1\n",
       "100                         1\n",
       "115                         1\n",
       "105                         1\n",
       "195                         1\n",
       "123                         1\n",
       "264                         1\n",
       "110                         1\n",
       "116                         1\n",
       "137                         1\n",
       "Not sure, 240               1\n",
       "I'm not answering this.     1\n",
       "156                         1\n",
       "Name: weight, dtype: int64"
      ]
     },
     "execution_count": 12,
     "metadata": {},
     "output_type": "execute_result"
    }
   ],
   "source": [
    "df['weight'].value_counts()"
   ]
  },
  {
   "cell_type": "markdown",
   "id": "54f3fb83",
   "metadata": {},
   "source": [
    "We can extract the numbers from `144 lbs` and `Not sure, 240`, while `I'm not answering this.` can be changed to `NaN`."
   ]
  },
  {
   "cell_type": "markdown",
   "id": "2a7663a4",
   "metadata": {},
   "source": [
    "Here, we also note that `I'm not answering this. ` also has a space after the period."
   ]
  },
  {
   "cell_type": "code",
   "execution_count": 13,
   "id": "e7bca3c3",
   "metadata": {},
   "outputs": [],
   "source": [
    "df['weight'].replace({\n",
    "    '144 lbs': 144,\n",
    "    'Not sure, 240': 240,\n",
    "    'I\\'m not answering this. ': np.NaN\n",
    "}, inplace=True)"
   ]
  },
  {
   "cell_type": "code",
   "execution_count": 14,
   "id": "fc305304",
   "metadata": {},
   "outputs": [
    {
     "data": {
      "text/plain": [
       "135    8\n",
       "140    8\n",
       "150    7\n",
       "170    7\n",
       "155    6\n",
       "175    6\n",
       "180    6\n",
       "185    6\n",
       "165    5\n",
       "125    5\n",
       "190    5\n",
       "145    4\n",
       "200    4\n",
       "130    4\n",
       "160    3\n",
       "120    3\n",
       "210    2\n",
       "113    2\n",
       "167    2\n",
       "128    2\n",
       "129    2\n",
       "144    1\n",
       "112    1\n",
       "127    1\n",
       "260    1\n",
       "184    1\n",
       "230    1\n",
       "118    1\n",
       "138    1\n",
       "192    1\n",
       "265    1\n",
       "187    1\n",
       "169    1\n",
       "168    1\n",
       "100    1\n",
       "205    1\n",
       "115    1\n",
       "105    1\n",
       "195    1\n",
       "123    1\n",
       "264    1\n",
       "110    1\n",
       "116    1\n",
       "137    1\n",
       "240    1\n",
       "156    1\n",
       "Name: weight, dtype: int64"
      ]
     },
     "execution_count": 14,
     "metadata": {},
     "output_type": "execute_result"
    }
   ],
   "source": [
    "df['weight'].value_counts()"
   ]
  },
  {
   "cell_type": "code",
   "execution_count": 15,
   "id": "37344d27",
   "metadata": {},
   "outputs": [],
   "source": [
    "df['weight'] = pd.to_numeric(df['weight'])"
   ]
  },
  {
   "cell_type": "markdown",
   "id": "b4d81708",
   "metadata": {},
   "source": [
    "Next, we split the columns with missing data into categorical and numerical variables."
   ]
  },
  {
   "cell_type": "code",
   "execution_count": 16,
   "id": "2166a915",
   "metadata": {},
   "outputs": [
    {
     "name": "stdout",
     "output_type": "stream",
     "text": [
      "<class 'pandas.core.frame.DataFrame'>\n",
      "RangeIndex: 125 entries, 0 to 124\n",
      "Data columns (total 54 columns):\n",
      " #   Column                      Non-Null Count  Dtype  \n",
      "---  ------                      --------------  -----  \n",
      " 0   GPA                         121 non-null    float64\n",
      " 1   Gender                      125 non-null    int64  \n",
      " 2   breakfast                   125 non-null    int64  \n",
      " 3   calories_chicken            125 non-null    int64  \n",
      " 4   calories_day                106 non-null    float64\n",
      " 5   calories_scone              124 non-null    float64\n",
      " 6   coffee                      125 non-null    int64  \n",
      " 7   comfort_food                124 non-null    object \n",
      " 8   cook                        122 non-null    float64\n",
      " 9   comfort_food_reasons_coded  125 non-null    int64  \n",
      " 10  cuisine                     108 non-null    float64\n",
      " 11  diet_current_coded          125 non-null    int64  \n",
      " 12  drink                       123 non-null    float64\n",
      " 13  eating_changes_coded        125 non-null    int64  \n",
      " 14  eating_out                  125 non-null    int64  \n",
      " 15  employment                  116 non-null    float64\n",
      " 16  ethnic_food                 125 non-null    int64  \n",
      " 17  exercise                    112 non-null    float64\n",
      " 18  father_education            124 non-null    float64\n",
      " 19  father_profession           122 non-null    object \n",
      " 20  fav_cuisine_coded           125 non-null    int64  \n",
      " 21  fav_food                    123 non-null    float64\n",
      " 22  food_childhood              124 non-null    object \n",
      " 23  fries                       125 non-null    int64  \n",
      " 24  fruit_day                   125 non-null    int64  \n",
      " 25  grade_level                 125 non-null    int64  \n",
      " 26  greek_food                  125 non-null    int64  \n",
      " 27  healthy_feeling             125 non-null    int64  \n",
      " 28  healthy_meal                124 non-null    object \n",
      " 29  ideal_diet_coded            125 non-null    int64  \n",
      " 30  income                      124 non-null    float64\n",
      " 31  indian_food                 125 non-null    int64  \n",
      " 32  italian_food                125 non-null    int64  \n",
      " 33  life_rewarding              124 non-null    float64\n",
      " 34  marital_status              124 non-null    float64\n",
      " 35  meals_dinner_friend         122 non-null    object \n",
      " 36  mother_education            122 non-null    float64\n",
      " 37  mother_profession           123 non-null    object \n",
      " 38  nutritional_check           125 non-null    int64  \n",
      " 39  on_off_campus               124 non-null    float64\n",
      " 40  parents_cook                125 non-null    int64  \n",
      " 41  pay_meal_out                125 non-null    int64  \n",
      " 42  persian_food                124 non-null    float64\n",
      " 43  self_perception_weight      124 non-null    float64\n",
      " 44  soup                        124 non-null    float64\n",
      " 45  sports                      123 non-null    float64\n",
      " 46  thai_food                   125 non-null    int64  \n",
      " 47  tortilla_calories           124 non-null    float64\n",
      " 48  turkey_calories             125 non-null    int64  \n",
      " 49  type_sports                 104 non-null    object \n",
      " 50  veggies_day                 125 non-null    int64  \n",
      " 51  vitamins                    125 non-null    int64  \n",
      " 52  waffle_calories             125 non-null    int64  \n",
      " 53  weight                      122 non-null    float64\n",
      "dtypes: float64(21), int64(26), object(7)\n",
      "memory usage: 52.9+ KB\n"
     ]
    }
   ],
   "source": [
    "df.info()"
   ]
  },
  {
   "cell_type": "code",
   "execution_count": 17,
   "id": "57f5dac8",
   "metadata": {},
   "outputs": [],
   "source": [
    "cat = [\n",
    "    'calories_day',\n",
    "    'calories_scone',\n",
    "    'cook',\n",
    "    'cuisine',\n",
    "    'drink',\n",
    "    'employment',\n",
    "    'exercise',\n",
    "    'father_education',\n",
    "    'fav_food',\n",
    "    'income',\n",
    "    'life_rewarding',\n",
    "    'marital_status',\n",
    "    'mother_education',\n",
    "    'on_off_campus',\n",
    "    'persian_food',\n",
    "    'self_perception_weight',\n",
    "    'soup',\n",
    "    'sports',\n",
    "    'tortilla_calories',\n",
    "]\n",
    "\n",
    "num = [\n",
    "    'GPA',\n",
    "    'weight'\n",
    "]"
   ]
  },
  {
   "cell_type": "markdown",
   "id": "c8b217e2",
   "metadata": {},
   "source": [
    "All categorical columns are actually `int` or `cat` columns in the dataset, but it was observed that this was due to the coding used in the original dataset, where numbers are assigned to text data. We then impute using the function defined below:"
   ]
  },
  {
   "cell_type": "code",
   "execution_count": 18,
   "id": "3fc530ad",
   "metadata": {},
   "outputs": [],
   "source": [
    "def impute_na(col_name, col_type):\n",
    "    '''\n",
    "    This function is used to avoid retyping too much\n",
    "    '''\n",
    "    if col_type == 'cat':\n",
    "        df[col_name] = df[col_name].fillna(value=df[col_name].mode()[0])\n",
    "    elif col_type == 'num':\n",
    "        df[col_name] = df[col_name].fillna(value=df[col_name].mean())\n",
    "    else:\n",
    "        print('Nothing happened!')"
   ]
  },
  {
   "cell_type": "code",
   "execution_count": 19,
   "id": "2dfe144d",
   "metadata": {},
   "outputs": [],
   "source": [
    "for col in cat:\n",
    "    impute_na(col, 'cat')\n",
    "    \n",
    "for col in num:\n",
    "    impute_na(col, 'num')"
   ]
  },
  {
   "cell_type": "code",
   "execution_count": 20,
   "id": "40e577bc",
   "metadata": {},
   "outputs": [
    {
     "name": "stdout",
     "output_type": "stream",
     "text": [
      "<class 'pandas.core.frame.DataFrame'>\n",
      "RangeIndex: 125 entries, 0 to 124\n",
      "Data columns (total 54 columns):\n",
      " #   Column                      Non-Null Count  Dtype  \n",
      "---  ------                      --------------  -----  \n",
      " 0   GPA                         125 non-null    float64\n",
      " 1   Gender                      125 non-null    int64  \n",
      " 2   breakfast                   125 non-null    int64  \n",
      " 3   calories_chicken            125 non-null    int64  \n",
      " 4   calories_day                125 non-null    float64\n",
      " 5   calories_scone              125 non-null    float64\n",
      " 6   coffee                      125 non-null    int64  \n",
      " 7   comfort_food                124 non-null    object \n",
      " 8   cook                        125 non-null    float64\n",
      " 9   comfort_food_reasons_coded  125 non-null    int64  \n",
      " 10  cuisine                     125 non-null    float64\n",
      " 11  diet_current_coded          125 non-null    int64  \n",
      " 12  drink                       125 non-null    float64\n",
      " 13  eating_changes_coded        125 non-null    int64  \n",
      " 14  eating_out                  125 non-null    int64  \n",
      " 15  employment                  125 non-null    float64\n",
      " 16  ethnic_food                 125 non-null    int64  \n",
      " 17  exercise                    125 non-null    float64\n",
      " 18  father_education            125 non-null    float64\n",
      " 19  father_profession           122 non-null    object \n",
      " 20  fav_cuisine_coded           125 non-null    int64  \n",
      " 21  fav_food                    125 non-null    float64\n",
      " 22  food_childhood              124 non-null    object \n",
      " 23  fries                       125 non-null    int64  \n",
      " 24  fruit_day                   125 non-null    int64  \n",
      " 25  grade_level                 125 non-null    int64  \n",
      " 26  greek_food                  125 non-null    int64  \n",
      " 27  healthy_feeling             125 non-null    int64  \n",
      " 28  healthy_meal                124 non-null    object \n",
      " 29  ideal_diet_coded            125 non-null    int64  \n",
      " 30  income                      125 non-null    float64\n",
      " 31  indian_food                 125 non-null    int64  \n",
      " 32  italian_food                125 non-null    int64  \n",
      " 33  life_rewarding              125 non-null    float64\n",
      " 34  marital_status              125 non-null    float64\n",
      " 35  meals_dinner_friend         122 non-null    object \n",
      " 36  mother_education            125 non-null    float64\n",
      " 37  mother_profession           123 non-null    object \n",
      " 38  nutritional_check           125 non-null    int64  \n",
      " 39  on_off_campus               125 non-null    float64\n",
      " 40  parents_cook                125 non-null    int64  \n",
      " 41  pay_meal_out                125 non-null    int64  \n",
      " 42  persian_food                125 non-null    float64\n",
      " 43  self_perception_weight      125 non-null    float64\n",
      " 44  soup                        125 non-null    float64\n",
      " 45  sports                      125 non-null    float64\n",
      " 46  thai_food                   125 non-null    int64  \n",
      " 47  tortilla_calories           125 non-null    float64\n",
      " 48  turkey_calories             125 non-null    int64  \n",
      " 49  type_sports                 104 non-null    object \n",
      " 50  veggies_day                 125 non-null    int64  \n",
      " 51  vitamins                    125 non-null    int64  \n",
      " 52  waffle_calories             125 non-null    int64  \n",
      " 53  weight                      125 non-null    float64\n",
      "dtypes: float64(21), int64(26), object(7)\n",
      "memory usage: 52.9+ KB\n"
     ]
    }
   ],
   "source": [
    "df.info()"
   ]
  },
  {
   "cell_type": "markdown",
   "id": "92cb8816",
   "metadata": {},
   "source": [
    "The remaining columns with `NaN`s are the answers to open-ended questions."
   ]
  },
  {
   "cell_type": "code",
   "execution_count": null,
   "id": "5a158292",
   "metadata": {},
   "outputs": [],
   "source": []
  }
 ],
 "metadata": {
  "kernelspec": {
   "display_name": "Python 3 (ipykernel)",
   "language": "python",
   "name": "python3"
  },
  "language_info": {
   "codemirror_mode": {
    "name": "ipython",
    "version": 3
   },
   "file_extension": ".py",
   "mimetype": "text/x-python",
   "name": "python",
   "nbconvert_exporter": "python",
   "pygments_lexer": "ipython3",
   "version": "3.9.13"
  }
 },
 "nbformat": 4,
 "nbformat_minor": 5
}
